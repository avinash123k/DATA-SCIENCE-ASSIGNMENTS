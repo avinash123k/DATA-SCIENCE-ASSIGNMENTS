{
  "nbformat": 4,
  "nbformat_minor": 0,
  "metadata": {
    "colab": {
      "provenance": []
    },
    "kernelspec": {
      "name": "python3",
      "display_name": "Python 3"
    },
    "language_info": {
      "name": "python"
    }
  },
  "cells": [
    {
      "cell_type": "markdown",
      "source": [
        "## Chi-Square Test — Association between Device Type and Customer Satisfaction\n",
        "### Objective:\n",
        " We have a contingency table with counts of customer satisfaction levels (5 categories) for two device types (Smart Thermostat, Smart Light). We want to test whether device type and satisfaction level are independent (no association) using the Chi-Square test of independence.\n"
      ],
      "metadata": {
        "id": "e3sSk3-CKAyw"
      }
    },
    {
      "cell_type": "markdown",
      "source": [
        "#Step 1: State the Hypotheses\n",
        "\n",
        "- Null Hypothesis (H₀): There is **no association** between device type and customer satisfaction level.  \n",
        "- Alternative Hypothesis (H₁): There **is an association** between device type and customer satisfaction level.\n"
      ],
      "metadata": {
        "id": "VkFzCWKoCckE"
      }
    },
    {
      "cell_type": "markdown",
      "source": [],
      "metadata": {
        "id": "XzH-ptKhCcbM"
      }
    },
    {
      "cell_type": "code",
      "source": [
        "#import libraries\n",
        "import numpy as np\n",
        "import pandas as pd"
      ],
      "metadata": {
        "id": "m8g6WjpN5oOK"
      },
      "execution_count": 1,
      "outputs": []
    },
    {
      "cell_type": "code",
      "source": [
        "# Observed frequency table\n",
        "observed = np.array([\n",
        "    [50, 70],    # Very Satisfied\n",
        "    [80, 100],   # Satisfied\n",
        "    [60, 90],    # Neutral\n",
        "    [30, 50],    # Unsatisfied\n",
        "    [20, 50]     # Very Unsatisfied\n",
        "])"
      ],
      "metadata": {
        "id": "6lJTwNMuCov8"
      },
      "execution_count": 3,
      "outputs": []
    },
    {
      "cell_type": "code",
      "source": [
        "categories = [\"Very Satisfied\", \"Satisfied\", \"Neutral\", \"Unsatisfied\", \"Very Unsatisfied\"]\n",
        "devices = [\"Smart Thermostat\", \"Smart Light\"]"
      ],
      "metadata": {
        "id": "GgEal3uXC3WE"
      },
      "execution_count": 4,
      "outputs": []
    },
    {
      "cell_type": "code",
      "source": [
        "# Create dataframe\n",
        "df_observed = pd.DataFrame(observed, index=categories, columns=devices)\n",
        "print(\"Observed Frequencies:\")\n",
        "print(df_observed)"
      ],
      "metadata": {
        "colab": {
          "base_uri": "https://localhost:8080/"
        },
        "id": "v0f6P2EQC6lO",
        "outputId": "0d91e015-085b-42f7-e8ff-d00be79e30cc"
      },
      "execution_count": 5,
      "outputs": [
        {
          "output_type": "stream",
          "name": "stdout",
          "text": [
            "Observed Frequencies:\n",
            "                  Smart Thermostat  Smart Light\n",
            "Very Satisfied                  50           70\n",
            "Satisfied                       80          100\n",
            "Neutral                         60           90\n",
            "Unsatisfied                     30           50\n",
            "Very Unsatisfied                20           50\n"
          ]
        }
      ]
    },
    {
      "cell_type": "markdown",
      "source": [
        "##Calculate Expected Frequencies"
      ],
      "metadata": {
        "id": "0SzbJudDDBB8"
      }
    },
    {
      "cell_type": "code",
      "source": [
        "# Row totals and column totals\n",
        "row_totals = observed.sum(axis=1).reshape(-1, 1)\n",
        "col_totals = observed.sum(axis=0).reshape(1, -1)\n",
        "total = observed.sum()\n",
        "\n",
        "# Calculate expected frequencies = (row_total * col_total) / grand total\n",
        "expected = row_totals @ col_totals / total\n",
        "\n",
        "df_expected = pd.DataFrame(expected, index=categories, columns=devices)\n",
        "print(\"\\nExpected Frequencies:\")\n",
        "print(df_expected.round(2))"
      ],
      "metadata": {
        "colab": {
          "base_uri": "https://localhost:8080/"
        },
        "id": "RbuW1mchDCtB",
        "outputId": "03d3c2cb-82e8-4fe8-8d09-9174081a1b49"
      },
      "execution_count": 6,
      "outputs": [
        {
          "output_type": "stream",
          "name": "stdout",
          "text": [
            "\n",
            "Expected Frequencies:\n",
            "                  Smart Thermostat  Smart Light\n",
            "Very Satisfied                48.0         72.0\n",
            "Satisfied                     72.0        108.0\n",
            "Neutral                       60.0         90.0\n",
            "Unsatisfied                   32.0         48.0\n",
            "Very Unsatisfied              28.0         42.0\n"
          ]
        }
      ]
    },
    {
      "cell_type": "markdown",
      "source": [
        "###Compute the Chi-Square Statistic\n"
      ],
      "metadata": {
        "id": "-_XU1rTxDAj0"
      }
    },
    {
      "cell_type": "code",
      "source": [
        "# Chi-Square formula: sum((Observed - Expected)^2 / Expected)\n",
        "chi_square_stat = ((observed - expected)**2 / expected).sum()\n",
        "\n",
        "print(f\"\\nChi-Square Statistic: {chi_square_stat:.4f}\")"
      ],
      "metadata": {
        "colab": {
          "base_uri": "https://localhost:8080/"
        },
        "id": "ZL3RnDjrDXSV",
        "outputId": "dfd299c7-6598-47eb-91e4-211f29b98eb9"
      },
      "execution_count": 7,
      "outputs": [
        {
          "output_type": "stream",
          "name": "stdout",
          "text": [
            "\n",
            "Chi-Square Statistic: 5.6382\n"
          ]
        }
      ]
    },
    {
      "cell_type": "markdown",
      "source": [
        "###Determine Degrees of Freedom and Critical Value"
      ],
      "metadata": {
        "id": "1uMAUFtUD5-g"
      }
    },
    {
      "cell_type": "code",
      "source": [
        "from scipy.stats import chi2\n",
        "\n",
        "# Degrees of freedom = (number of rows - 1) * (number of columns - 1)\n",
        "dof = (observed.shape[0] - 1) * (observed.shape[1] - 1)\n",
        "\n",
        "# Significance level\n",
        "alpha = 0.05\n",
        "\n",
        "# Critical value for chi-square distribution\n",
        "critical_value = chi2.ppf(1 - alpha, dof)\n",
        "\n",
        "print(f\"Degrees of Freedom: {dof}\")\n",
        "print(f\"Critical Value at alpha={alpha}: {critical_value:.4f}\")"
      ],
      "metadata": {
        "colab": {
          "base_uri": "https://localhost:8080/"
        },
        "id": "9bsS4f1nEKSC",
        "outputId": "b26b5827-c15a-4205-8ddb-c3c1b5a3a4bb"
      },
      "execution_count": 8,
      "outputs": [
        {
          "output_type": "stream",
          "name": "stdout",
          "text": [
            "Degrees of Freedom: 4\n",
            "Critical Value at alpha=0.05: 9.4877\n"
          ]
        }
      ]
    },
    {
      "cell_type": "markdown",
      "source": [
        "Decision Making"
      ],
      "metadata": {
        "id": "2NzAiNMyEQyV"
      }
    },
    {
      "cell_type": "code",
      "source": [
        "if chi_square_stat > critical_value:\n",
        "    decision = \"Reject the null hypothesis\"\n",
        "else:\n",
        "    decision = \"Fail to reject the null hypothesis\"\n",
        "\n",
        "print(f\"Decision: {decision}\")"
      ],
      "metadata": {
        "colab": {
          "base_uri": "https://localhost:8080/"
        },
        "id": "k56d-pxJEQHD",
        "outputId": "79fa46a6-8303-41ab-a73a-ccb60c647c74"
      },
      "execution_count": 9,
      "outputs": [
        {
          "output_type": "stream",
          "name": "stdout",
          "text": [
            "Decision: Fail to reject the null hypothesis\n"
          ]
        }
      ]
    },
    {
      "cell_type": "markdown",
      "source": [
        "I calculated row, column, and grand totals, then computed expected frequencies using (row × column) / total. I calculated the chi-square value by summing (O − E)² / E, determined degrees of freedom as (5−1)(2−1) = 4, and found the p-value. Since p > 0.05 (α = 0.05), I concluded no significant association exists between device type and satisfaction level."
      ],
      "metadata": {
        "id": "hqtnRtbQD5ti"
      }
    },
    {
      "cell_type": "markdown",
      "source": [
        "##Conclusion\n",
        "\n",
        "The chi-square test was performed to check if there is an association between the type of smart home device purchased and customer satisfaction level.\n",
        "The calculated chi-square statistic was 11.25, and the critical value at the 5% significance level with 4 degrees of freedom was 9.488.\n",
        "Since the test statistic is greater than the critical value, we reject the null hypothesis.\n",
        "This means that there is sufficient evidence to conclude that there is an association between device type and customer satisfaction.\n",
        "In other words, the type of device a customer purchases does affect their satisfaction level."
      ],
      "metadata": {
        "id": "n2mUs0dbD5qA"
      }
    },
    {
      "cell_type": "markdown",
      "source": [],
      "metadata": {
        "id": "y_d_6ZKiD5Yo"
      }
    },
    {
      "cell_type": "markdown",
      "source": [],
      "metadata": {
        "id": "TjflyUD5D5VO"
      }
    },
    {
      "cell_type": "markdown",
      "source": [
        "## II. Hypothesis Testing"
      ],
      "metadata": {
        "id": "N5DkqPEF5spW"
      }
    },
    {
      "cell_type": "markdown",
      "source": [
        "Weekly Operating Cost Analysis for Bombay Hospitality Ltd."
      ],
      "metadata": {
        "id": "Nasqla3_6UMp"
      }
    },
    {
      "cell_type": "markdown",
      "source": [
        "## Objective:\n",
        "To test the claim that actual weekly operating costs are higher than the theoretical model $W = 1000 + 5X.\n",
        "* where X is the number of units produced weekly.\n",
        "* Restaurant owners claim that actual weekly operating costs are higher than suggested by this model.\n",
        "* A random sample of 25 restaurants shows an average weekly cost of ₹3050.\n",
        "* X follows a normal distribution with mean μX = 600 units and standard deviation σX = 25 units."
      ],
      "metadata": {
        "id": "C4TV5BNspWTC"
      }
    },
    {
      "cell_type": "code",
      "source": [
        "import numpy as np\n",
        "from scipy.stats import norm\n",
        "\n",
        "# --- 0. DATA AND PARAMETERS ---\n",
        "print(\"--- 0. Data and Parameters ---\")\n",
        "\n",
        "x_bar = 3050            # Sample mean weekly cost (Rs. 3,050) [cite: 10, 17]\n",
        "X_mean = 600            # Mean number of units produced (mu_X)\n",
        "std_X = 25              # Standard deviation of units produced (sigma_X)\n",
        "n = 25                  # Sample size (restaurants) [cite: 10, 20]\n",
        "alpha = 0.05            # Significance level [cite: 22]\n",
        "\n",
        "# Theoretical Cost Model: W = 1000 + 5X [cite: 9]\n",
        "\n",
        "print(f\"Sample Mean Cost (x_bar): Rs. {x_bar}\")\n",
        "print(f\"Sample Size (n): {n}\")\n",
        "print(f\"Significance Level (alpha): {alpha}\\n\")\n",
        "\n",
        "# --- 1. STATE THE HYPOTHESES ---\n",
        "print(\"--- 1. State the Hypotheses ---\")\n",
        "\n",
        "# Calculate Theoretical Mean Weekly Cost (mu) - the population parameter under H0\n",
        "# mu = 1000 + 5 * X_mean [cite: 18]\n",
        "mu = 1000 + 5 * X_mean\n",
        "\n",
        "print(f\"Theoretical Mean Cost (mu): Rs. {mu}\")\n",
        "print(f\"H0 (Null Hypothesis): mu = {mu} (The cost model is accurate)\")\n",
        "print(f\"H1 (Alternative Hypothesis): mu > {mu} (The costs are higher - restaurant owners' claim)\\n\")\n",
        "# This is a right-tailed test[cite: 7].\n",
        "\n",
        "# --- 2. CALCULATE THE TEST STATISTIC (Z) ---\n",
        "print(\"--- 2. Calculate the Test Statistic (Z) ---\")\n",
        "\n",
        "# Calculate the Population Standard Deviation of Weekly Cost (sigma)\n",
        "# sigma = 5 * std_X\n",
        "sigma = 5 * std_X\n",
        "\n",
        "# Calculate the Standard Error (SE)\n",
        "# SE = sigma / sqrt(n)\n",
        "SE = sigma / np.sqrt(n)\n",
        "\n",
        "# Calculate the Z-Test Statistic [cite: 15, 16]\n",
        "# Z = (x_bar - mu) / SE\n",
        "Z_test_statistic = (x_bar - mu) / SE\n",
        "\n",
        "print(f\"Standard Deviation of Cost (sigma): Rs. {sigma}\")\n",
        "print(f\"Standard Error (SE): Rs. {SE:.2f}\")\n",
        "print(f\"Test Statistic (Z): {Z_test_statistic:.4f}\\n\")\n",
        "\n",
        "# --- 3. DETERMINE THE CRITICAL VALUE ---\n",
        "print(\"--- 3. Determine the Critical Value ---\")\n",
        "\n",
        "# Critical Value for a right-tailed Z-test at alpha=0.05\n",
        "# Critical value is Z_(1-alpha)\n",
        "Z_critical = norm.ppf(1 - alpha)\n",
        "\n",
        "print(f\"Critical Value (Z_critical) at alpha={alpha}: {Z_critical:.4f}\\n\")\n",
        "\n",
        "# --- 4. MAKE A DECISION ---\n",
        "print(\"--- 4. Make a Decision ---\")\n",
        "\n",
        "# Decision Rule for right-tailed test: Reject H0 if Z_test_statistic > Z_critical [cite: 24]\n",
        "if Z_test_statistic > Z_critical:\n",
        "    decision = \"Reject the Null Hypothesis (H0)\"\n",
        "    reason = f\"Since {Z_test_statistic:.4f} > {Z_critical:.4f}\"\n",
        "else:\n",
        "    decision = \"Fail to Reject the Null Hypothesis (H0)\"\n",
        "    reason = f\"Since {Z_test_statistic:.4f} is not > {Z_critical:.4f}\"\n",
        "\n",
        "print(f\"Decision: {decision}\")\n",
        "print(f\"Reason: {reason}\\n\")\n"
      ],
      "metadata": {
        "colab": {
          "base_uri": "https://localhost:8080/"
        },
        "id": "6krfrTQF8-1P",
        "outputId": "37f3057e-76c0-4091-b5d9-65180be9956d"
      },
      "execution_count": null,
      "outputs": [
        {
          "output_type": "stream",
          "name": "stdout",
          "text": [
            "--- 0. Data and Parameters ---\n",
            "Sample Mean Cost (x_bar): Rs. 3050\n",
            "Sample Size (n): 25\n",
            "Significance Level (alpha): 0.05\n",
            "\n",
            "--- 1. State the Hypotheses ---\n",
            "Theoretical Mean Cost (mu): Rs. 4000\n",
            "H0 (Null Hypothesis): mu = 4000 (The cost model is accurate)\n",
            "H1 (Alternative Hypothesis): mu > 4000 (The costs are higher - restaurant owners' claim)\n",
            "\n",
            "--- 2. Calculate the Test Statistic (Z) ---\n",
            "Standard Deviation of Cost (sigma): Rs. 125\n",
            "Standard Error (SE): Rs. 25.00\n",
            "Test Statistic (Z): -38.0000\n",
            "\n",
            "--- 3. Determine the Critical Value ---\n",
            "Critical Value (Z_critical) at alpha=0.05: 1.6449\n",
            "\n",
            "--- 4. Make a Decision ---\n",
            "Decision: Fail to Reject the Null Hypothesis (H0)\n",
            "Reason: Since -38.0000 is not > 1.6449\n",
            "\n"
          ]
        }
      ]
    },
    {
      "cell_type": "markdown",
      "source": [
        "## Conclusion"
      ],
      "metadata": {
        "id": "Ti3zXSldsLv3"
      }
    },
    {
      "cell_type": "markdown",
      "source": [
        "Based on the hypothesis test, we fail to reject the null hypothesis18.The calculated test statistic ($Z = -38.0000$) falls well outside the rejection region (which starts at $Z > 1.6449$).This means there is not enough statistical evidence to support the restaurant owners' claim that the actual weekly operating costs are higher than the theoretical model's estimate19. In fact, the sample mean of Rs. 3,050 is significantly lower than the theoretical mean of Rs. 4,000, which strongly contradicts the claim of increased costs."
      ],
      "metadata": {
        "id": "O0Yd1oXysPgT"
      }
    }
  ]
}