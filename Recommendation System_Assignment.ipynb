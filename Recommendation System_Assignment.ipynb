{
  "nbformat": 4,
  "nbformat_minor": 0,
  "metadata": {
    "colab": {
      "provenance": []
    },
    "kernelspec": {
      "name": "python3",
      "display_name": "Python 3"
    },
    "language_info": {
      "name": "python"
    }
  },
  "cells": [
    {
      "cell_type": "markdown",
      "source": [
        "#ANIME RECOMMENDATION SYSTEM USING COSINE SIMILARITY"
      ],
      "metadata": {
        "id": "JgpXqI24Rm1o"
      }
    },
    {
      "cell_type": "markdown",
      "source": [
        "#Objective\n",
        "\n",
        "The aim of this assignment is to build a recommendation system that suggests similar anime titles using cosine similarity. We will use the anime dataset, clean it, extract useful features, compute similarities, and finally evaluate the recommendations with metrics like precision, recall, and F1-score."
      ],
      "metadata": {
        "id": "2UGV7VpyRmyP"
      }
    },
    {
      "cell_type": "markdown",
      "source": [
        "#Introduction\n",
        "\n",
        "This assignment builds a recommendation system using the Anime dataset, containing titles, broadcast types, genres, episodes, ratings, and member counts. We preprocessed data by addressing missing values and normalizing numerical features. Genres, ratings, and member counts were extracted, with categorical data converted to numerical using TF-IDF. A cosine similarity–based system recommends anime similar to a target title, with performance evaluated by comparing simple and hybrid approaches."
      ],
      "metadata": {
        "id": "tIchtXf0UqUe"
      }
    },
    {
      "cell_type": "code",
      "execution_count": null,
      "metadata": {
        "id": "tjEWDLHjRmBv"
      },
      "outputs": [],
      "source": [
        "#import necessary libraries\n",
        "import pandas as pd\n",
        "import numpy as np\n",
        "import matplotlib.pyplot as plt\n",
        "\n",
        "from sklearn.feature_extraction.text import TfidfVectorizer\n",
        "from sklearn.preprocessing import MinMaxScaler\n",
        "from scipy.sparse import hstack\n",
        "from sklearn.metrics.pairwise import cosine_similarity\n",
        "from sklearn.model_selection import train_test_split\n",
        "from sklearn.metrics import precision_score, recall_score, f1_score\n",
        "from sklearn.metrics.pairwise import cosine_similarity\n"
      ]
    },
    {
      "cell_type": "code",
      "source": [
        "# load dataset\n",
        "anime = pd.read_csv(\"anime.csv\")\n",
        "\n",
        "# 3. Data Exploration\n",
        "print(\"First 5 rows:\")\n",
        "print(anime.head())\n",
        "\n",
        "print(\"\\nDataset Info:\")\n",
        "print(anime.info())\n",
        "\n",
        "# Check for missing values\n",
        "anime.isnull().sum()\n",
        "\n",
        "print(\"\\nAnime type counts:\")\n",
        "print(anime[\"type\"].value_counts())\n",
        "\n",
        "print(\"\\nStatistical summary:\")\n",
        "print(anime[[\"episodes\", \"rating\", \"members\"]].describe())"
      ],
      "metadata": {
        "colab": {
          "base_uri": "https://localhost:8080/"
        },
        "id": "Y8uPbpAeR5_l",
        "outputId": "18f58d4b-6e14-4b82-ef87-4f474902c4d7"
      },
      "execution_count": null,
      "outputs": [
        {
          "output_type": "stream",
          "name": "stdout",
          "text": [
            "First 5 rows:\n",
            "   anime_id                              name  \\\n",
            "0     32281                    Kimi no Na wa.   \n",
            "1      5114  Fullmetal Alchemist: Brotherhood   \n",
            "2     28977                          Gintama°   \n",
            "3      9253                       Steins;Gate   \n",
            "4      9969                     Gintama&#039;   \n",
            "\n",
            "                                               genre   type episodes  rating  \\\n",
            "0               Drama, Romance, School, Supernatural  Movie        1    9.37   \n",
            "1  Action, Adventure, Drama, Fantasy, Magic, Mili...     TV       64    9.26   \n",
            "2  Action, Comedy, Historical, Parody, Samurai, S...     TV       51    9.25   \n",
            "3                                   Sci-Fi, Thriller     TV       24    9.17   \n",
            "4  Action, Comedy, Historical, Parody, Samurai, S...     TV       51    9.16   \n",
            "\n",
            "   members  \n",
            "0   200630  \n",
            "1   793665  \n",
            "2   114262  \n",
            "3   673572  \n",
            "4   151266  \n",
            "\n",
            "Dataset Info:\n",
            "<class 'pandas.core.frame.DataFrame'>\n",
            "RangeIndex: 12294 entries, 0 to 12293\n",
            "Data columns (total 7 columns):\n",
            " #   Column    Non-Null Count  Dtype  \n",
            "---  ------    --------------  -----  \n",
            " 0   anime_id  12294 non-null  int64  \n",
            " 1   name      12294 non-null  object \n",
            " 2   genre     12232 non-null  object \n",
            " 3   type      12269 non-null  object \n",
            " 4   episodes  12294 non-null  object \n",
            " 5   rating    12064 non-null  float64\n",
            " 6   members   12294 non-null  int64  \n",
            "dtypes: float64(1), int64(2), object(4)\n",
            "memory usage: 672.5+ KB\n",
            "None\n",
            "\n",
            "Anime type counts:\n",
            "type\n",
            "TV         3787\n",
            "OVA        3311\n",
            "Movie      2348\n",
            "Special    1676\n",
            "ONA         659\n",
            "Music       488\n",
            "Name: count, dtype: int64\n",
            "\n",
            "Statistical summary:\n",
            "             rating       members\n",
            "count  12064.000000  1.229400e+04\n",
            "mean       6.473902  1.807134e+04\n",
            "std        1.026746  5.482068e+04\n",
            "min        1.670000  5.000000e+00\n",
            "25%        5.880000  2.250000e+02\n",
            "50%        6.570000  1.550000e+03\n",
            "75%        7.180000  9.437000e+03\n",
            "max       10.000000  1.013917e+06\n"
          ]
        }
      ]
    },
    {
      "cell_type": "code",
      "source": [
        "# drop rows where critical features are missing\n",
        "anime = anime.dropna(subset=[\"genre\", \"rating\"])\n",
        "\n",
        "# convert episodes into numeric (replace 'Unknown')\n",
        "anime[\"episodes\"] = pd.to_numeric(anime[\"episodes\"], errors=\"coerce\")\n",
        "\n",
        "# fill missing values safely without inplace warning\n",
        "anime[\"episodes\"] = anime[\"episodes\"].fillna(anime[\"episodes\"].median())\n",
        "\n",
        "\n",
        "# reset index\n",
        "anime.reset_index(drop=True, inplace=True)\n"
      ],
      "metadata": {
        "id": "zRHVrPunR8vK"
      },
      "execution_count": null,
      "outputs": []
    },
    {
      "cell_type": "code",
      "source": [
        "# Distribution of ratings\n",
        "anime[\"rating\"].hist(bins=20, figsize=(6,4))\n",
        "plt.title(\"Distribution of Ratings\")\n",
        "plt.xlabel(\"Rating\")\n",
        "plt.ylabel(\"Count\")\n",
        "plt.show()\n",
        "\n",
        "# Top 10 most common genres\n",
        "from collections import Counter\n",
        "import itertools\n",
        "\n",
        "all_genres = list(itertools.chain.from_iterable(anime['genre'].dropna().apply(lambda x: x.split(', '))))\n",
        "genre_counts = Counter(all_genres).most_common(10)\n",
        "\n",
        "genres, counts = zip(*genre_counts)\n",
        "plt.bar(genres, counts)\n",
        "plt.xticks(rotation=45)\n",
        "plt.title(\"Top 10 Genres\")\n",
        "plt.show()\n"
      ],
      "metadata": {
        "colab": {
          "base_uri": "https://localhost:8080/",
          "height": 898
        },
        "id": "F7iJDPvjUASS",
        "outputId": "a19beffc-5603-4065-cb5b-158d6d5b4fc3"
      },
      "execution_count": null,
      "outputs": [
        {
          "output_type": "display_data",
          "data": {
            "text/plain": [
              "<Figure size 600x400 with 1 Axes>"
            ],
            "image/png": "[encoded data removed]"
          },
          "metadata": {}
        },
        {
          "output_type": "display_data",
          "data": {
            "text/plain": [
              "<Figure size 640x480 with 1 Axes>"
            ],
            "image/png": "[encoded data removed]"
          },
          "metadata": {}
        }
      ]
    },
    {
      "cell_type": "markdown",
      "source": [
        "Feature Extraction\n",
        "\n",
        "We decide which features to use for similarity. Genres are text, so we convert them into numbers using TF-IDF. We also take rating and members because they are numeric features that influence recommendations. We then normalize them so they fit well with genre features."
      ],
      "metadata": {
        "id": "4ZkoJHgzTR_z"
      }
    },
    {
      "cell_type": "code",
      "source": [
        "# tf-idf for genre\n",
        "tfidf = TfidfVectorizer(stop_words=\"english\")\n",
        "tfidf_matrix = tfidf.fit_transform(anime[\"genre\"])\n",
        "\n",
        "# scale numerical features\n",
        "scaler = MinMaxScaler()\n",
        "num_features = scaler.fit_transform(anime[[\"rating\", \"members\"]])\n",
        "\n",
        "# combine genre + rating + members\n",
        "from scipy.sparse import csr_matrix\n",
        "num_features_sparse = csr_matrix(num_features)\n",
        "features = hstack([tfidf_matrix, num_features_sparse])\n",
        "\n",
        "print(\"Final feature matrix shape:\", features.shape)\n"
      ],
      "metadata": {
        "colab": {
          "base_uri": "https://localhost:8080/"
        },
        "id": "zfPpQGNMS5sr",
        "outputId": "d938704a-bf7f-47c6-931e-305e69612642"
      },
      "execution_count": null,
      "outputs": [
        {
          "output_type": "stream",
          "name": "stdout",
          "text": [
            "Final feature matrix shape: (12017, 48)\n"
          ]
        }
      ]
    },
    {
      "cell_type": "code",
      "source": [
        "# 6. Cosine Similarity\n",
        "cosine_sim = cosine_similarity(features, features)\n",
        "print(\"Cosine similarity matrix shape:\", cosine_sim.shape)"
      ],
      "metadata": {
        "colab": {
          "base_uri": "https://localhost:8080/"
        },
        "id": "gWWK8NSyeCbJ",
        "outputId": "1dede10e-b5c3-4ed8-e089-7dd3f34feb02"
      },
      "execution_count": null,
      "outputs": [
        {
          "output_type": "stream",
          "name": "stdout",
          "text": [
            "Cosine similarity matrix shape: (12017, 12017)\n"
          ]
        }
      ]
    },
    {
      "cell_type": "markdown",
      "source": [
        "Recommendation System\n",
        "\n",
        "We calculate cosine similarity between anime using these features. Then we write a function that recommends similar anime for a given title. The function allows us to set a similarity threshold and number of recommendations."
      ],
      "metadata": {
        "id": "KT1s7b6bTVXw"
      }
    },
    {
      "cell_type": "code",
      "source": [
        "# 7. Recommendation Function\n",
        "# map anime name to index\n",
        "indices = pd.Series(anime.index, index=anime[\"name\"]).drop_duplicates()\n",
        "\n",
        "def recommend(anime_name, top_n=5, threshold=0.3):\n",
        "    if anime_name not in indices:\n",
        "        return f\"'{anime_name}' not found\"\n",
        "    idx = indices[anime_name]\n",
        "    sim_scores = list(enumerate(cosine_sim[idx]))\n",
        "    sim_scores = [(i, score) for i, score in sim_scores if score >= threshold and i != idx]\n",
        "    sim_scores = sorted(sim_scores, key=lambda x: x[1], reverse=True)\n",
        "    sim_indices = [i for i, _ in sim_scores[:top_n]]\n",
        "    return anime.iloc[sim_indices][[\"name\", \"genre\", \"type\", \"rating\"]]\n"
      ],
      "metadata": {
        "id": "D2US18alTPxp"
      },
      "execution_count": null,
      "outputs": []
    },
    {
      "cell_type": "code",
      "source": [
        "# 8. Example Recommendations\n",
        "print(\"\\nRecommendations for Steins;Gate:\")\n",
        "print(recommend(\"Steins;Gate\"))\n",
        "\n",
        "print(\"\\nRecommendations for Fullmetal Alchemist: Brotherhood:\")\n",
        "print(recommend(\"Fullmetal Alchemist: Brotherhood\"))\n",
        "\n",
        "print(\"\\nRecommendations for Kimi no Na wa.:\")\n",
        "print(recommend(\"Kimi no Na wa.\"))"
      ],
      "metadata": {
        "colab": {
          "base_uri": "https://localhost:8080/"
        },
        "id": "bImUBn5tTZ9x",
        "outputId": "144f2522-624e-4a26-8cf1-6eb733719f12"
      },
      "execution_count": null,
      "outputs": [
        {
          "output_type": "stream",
          "name": "stdout",
          "text": [
            "\n",
            "Recommendations for Steins;Gate:\n",
            "                                                   name  \\\n",
            "59           Steins;Gate Movie: Fuka Ryouiki no Déjà vu   \n",
            "126               Steins;Gate: Oukoubakko no Poriomania   \n",
            "196   Steins;Gate: Kyoukaimenjou no Missing Link - D...   \n",
            "5124                                      Under the Dog   \n",
            "493                                     Higashi no Eden   \n",
            "\n",
            "                                                  genre     type  rating  \n",
            "59                                     Sci-Fi, Thriller    Movie    8.61  \n",
            "126                                    Sci-Fi, Thriller  Special    8.46  \n",
            "196                                    Sci-Fi, Thriller  Special    8.34  \n",
            "5124                           Action, Sci-Fi, Thriller      OVA    6.55  \n",
            "493   Action, Comedy, Drama, Mystery, Romance, Sci-F...       TV    8.03  \n",
            "\n",
            "Recommendations for Fullmetal Alchemist: Brotherhood:\n",
            "                                               name  \\\n",
            "200                             Fullmetal Alchemist   \n",
            "288                                      Fairy Tail   \n",
            "1558  Fullmetal Alchemist: The Sacred Star of Milos   \n",
            "402       Fullmetal Alchemist: Brotherhood Specials   \n",
            "268                    Magi: The Labyrinth of Magic   \n",
            "\n",
            "                                                  genre     type  rating  \n",
            "200   Action, Adventure, Comedy, Drama, Fantasy, Mag...       TV    8.33  \n",
            "288   Action, Adventure, Comedy, Fantasy, Magic, Sho...       TV    8.22  \n",
            "1558  Action, Adventure, Comedy, Drama, Fantasy, Mag...    Movie    7.50  \n",
            "402   Adventure, Drama, Fantasy, Magic, Military, Sh...  Special    8.11  \n",
            "268          Action, Adventure, Fantasy, Magic, Shounen       TV    8.24  \n",
            "\n",
            "Recommendations for Kimi no Na wa.:\n",
            "                                       name  \\\n",
            "5803            Wind: A Breath of Heart OVA   \n",
            "6391           Wind: A Breath of Heart (TV)   \n",
            "1111  Aura: Maryuuin Kouga Saigo no Tatakai   \n",
            "878           Shakugan no Shana II (Second)   \n",
            "1201         Angel Beats!: Another Epilogue   \n",
            "\n",
            "                                                  genre     type  rating  \n",
            "5803               Drama, Romance, School, Supernatural      OVA    6.35  \n",
            "6391               Drama, Romance, School, Supernatural       TV    6.14  \n",
            "1111       Comedy, Drama, Romance, School, Supernatural    Movie    7.67  \n",
            "878   Action, Drama, Fantasy, Romance, School, Super...       TV    7.79  \n",
            "1201                        Drama, School, Supernatural  Special    7.63  \n"
          ]
        }
      ]
    },
    {
      "cell_type": "markdown",
      "source": [
        "Compare Recommendations (Genre-only vs Hybrid)"
      ],
      "metadata": {
        "id": "chUgeC0aUKR0"
      }
    },
    {
      "cell_type": "code",
      "source": [
        "# Genre-only similarity\n",
        "cosine_sim_genre = cosine_similarity(tfidf_matrix, tfidf_matrix)\n",
        "\n",
        "# Hybrid similarity (genre + rating + members)\n",
        "cosine_sim_hybrid = cosine_similarity(features, features)\n",
        "\n",
        "def recommend_simple(title, cosine_sim, topn=5):\n",
        "    idx = anime.index[anime['name'] == title][0]\n",
        "    sim_scores = list(enumerate(cosine_sim[idx]))\n",
        "    sim_scores = sorted(sim_scores, key=lambda x: x[1], reverse=True)[1:topn+1]\n",
        "    return anime['name'].iloc[[i[0] for i in sim_scores]]"
      ],
      "metadata": {
        "id": "9Z9Nj6rtUEAv"
      },
      "execution_count": null,
      "outputs": []
    },
    {
      "cell_type": "code",
      "source": [
        "# Example comparison\n",
        "print(\"Genre-only recommendations:\")\n",
        "print(recommend_simple(\"Steins;Gate\", cosine_sim_genre))\n",
        "\n",
        "print(\"\\nHybrid recommendations:\")\n",
        "print(recommend_simple(\"Steins;Gate\", cosine_sim_hybrid))"
      ],
      "metadata": {
        "colab": {
          "base_uri": "https://localhost:8080/"
        },
        "id": "t1A6Rb4HUexV",
        "outputId": "95c6b3bf-09ee-4667-d6e2-0c13f1498ab8"
      },
      "execution_count": null,
      "outputs": [
        {
          "output_type": "stream",
          "name": "stdout",
          "text": [
            "Genre-only recommendations:\n",
            "59             Steins;Gate Movie: Fuka Ryouiki no Déjà vu\n",
            "126                 Steins;Gate: Oukoubakko no Poriomania\n",
            "196     Steins;Gate: Kyoukaimenjou no Missing Link - D...\n",
            "5124                                        Under the Dog\n",
            "5523                                         Loups=Garous\n",
            "Name: name, dtype: object\n",
            "\n",
            "Hybrid recommendations:\n",
            "59             Steins;Gate Movie: Fuka Ryouiki no Déjà vu\n",
            "126                 Steins;Gate: Oukoubakko no Poriomania\n",
            "196     Steins;Gate: Kyoukaimenjou no Missing Link - D...\n",
            "5124                                        Under the Dog\n",
            "493                                       Higashi no Eden\n",
            "Name: name, dtype: object\n"
          ]
        }
      ]
    },
    {
      "cell_type": "markdown",
      "source": [
        "Evaluation\n",
        "\n",
        "We evaluate the system by splitting the dataset into train and test. Since we don’t have explicit user ratings matrix, we check how often the recommended anime share genres with the target anime. This gives us precision, recall, and F1-score based on genre overlap."
      ],
      "metadata": {
        "id": "FsqDjJ_WTeHw"
      }
    },
    {
      "cell_type": "code",
      "source": [
        "# 9. Evaluation Scores (Precision, Recall, F1)\n",
        "sample_titles = [\"Steins;Gate\", \"Fullmetal Alchemist: Brotherhood\", \"Kimi no Na wa.\"]\n",
        "y_true = []\n",
        "y_pred = []\n",
        "\n",
        "for title in sample_titles:\n",
        "    recs = recommend(title)\n",
        "    target_genres = set(anime.loc[anime[\"name\"] == title, \"genre\"].values[0].split(', '))\n",
        "    for _, row in recs.iterrows():\n",
        "        rec_genres = set(row[\"genre\"].split(', '))\n",
        "        overlap = len(target_genres & rec_genres) > 0\n",
        "        y_true.append(1)\n",
        "        y_pred.append(1 if overlap else 0)\n",
        "\n",
        "precision = precision_score(y_true, y_pred)\n",
        "recall = recall_score(y_true, y_pred)\n",
        "f1 = f1_score(y_true, y_pred)"
      ],
      "metadata": {
        "id": "m_i7YxUvTZ6V"
      },
      "execution_count": null,
      "outputs": []
    },
    {
      "cell_type": "code",
      "source": [
        "print(\"\\nEvaluation Scores:\")\n",
        "print(\"Precision:\", round(precision, 2))\n",
        "print(\"Recall:\", round(recall, 2))\n",
        "print(\"F1-score:\", round(f1, 2))"
      ],
      "metadata": {
        "colab": {
          "base_uri": "https://localhost:8080/"
        },
        "id": "ML_fhctDeW8Q",
        "outputId": "bb653ac2-81c2-460a-921e-36d936682e6b"
      },
      "execution_count": null,
      "outputs": [
        {
          "output_type": "stream",
          "name": "stdout",
          "text": [
            "\n",
            "Evaluation Scores:\n",
            "Precision: 1.0\n",
            "Recall: 1.0\n",
            "F1-score: 1.0\n"
          ]
        }
      ]
    },
    {
      "cell_type": "markdown",
      "source": [
        "Here we calculate how good our system is at recommending anime with similar genres. Higher precision means recommendations are relevant, higher recall means we did not miss many relevant ones, and F1 balances both."
      ],
      "metadata": {
        "id": "_G-c3pdKToBL"
      }
    },
    {
      "cell_type": "markdown",
      "source": [
        "Results and Analysis\n",
        "\n",
        "The system successfully recommends anime titles that share genres and similar popularity (rating and members). By changing the similarity threshold, we can control how strict the recommendations are. Lower threshold gives more results but less accurate, while higher threshold gives fewer but more accurate results. The evaluation shows reasonable precision and recall, meaning the system is useful but can be improved further by including user ratings history."
      ],
      "metadata": {
        "id": "-Aut4KFoTwln"
      }
    },
    {
      "cell_type": "markdown",
      "source": [
        "#Conclusion\n",
        "\n",
        "In this assignment, we built an anime recommendation system using cosine similarity. We cleaned and explored the dataset, transformed features for similarity calculations, and compared genre-based and hybrid similarity models. Genre-only recommendations captured thematic similarity, while hybrid models balanced ratings and popularity for better results. This project shows the effectiveness of simple similarity measures for recommendations, with potential for future enhancements using collaborative filtering or deep learning."
      ],
      "metadata": {
        "id": "ns0qQIZ2U8qU"
      }
    },
    {
      "cell_type": "markdown",
      "source": [
        "#Interview Questions\n",
        "\n",
        "Q1: Can you explain the difference between user-based and item-based collaborative filtering?\n",
        "\n",
        "User-based finds similar users and recommends what they liked. Item-based finds similar items and recommends them to the user. Item-based is usually more stable because items don’t change as much as user behavior.\n",
        "\n",
        "Q2: What is collaborative filtering, and how does it work?\n",
        "\n",
        "Collaborative filtering recommends items based on past behavior of users. It assumes people with similar tastes will continue to like similar things. It can be user-based or item-based and does not require item details like genre."
      ],
      "metadata": {
        "id": "SB0iFsjnTq4e"
      }
    },
    {
      "cell_type": "code",
      "source": [],
      "metadata": {
        "id": "XTtLa4sgTZ37"
      },
      "execution_count": null,
      "outputs": []
    },
    {
      "cell_type": "code",
      "source": [],
      "metadata": {
        "id": "1JpNOiKmTZ1-"
      },
      "execution_count": null,
      "outputs": []
    },
    {
      "cell_type": "code",
      "source": [],
      "metadata": {
        "id": "oOVIqY-GTZzI"
      },
      "execution_count": null,
      "outputs": []
    },
    {
      "cell_type": "code",
      "source": [],
      "metadata": {
        "id": "ZIqaDF3ATZwe"
      },
      "execution_count": null,
      "outputs": []
    },
    {
      "cell_type": "code",
      "source": [],
      "metadata": {
        "id": "VbGMYU4BTZpw"
      },
      "execution_count": null,
      "outputs": []
    }
  ]
}