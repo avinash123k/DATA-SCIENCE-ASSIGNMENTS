{
  "nbformat": 4,
  "nbformat_minor": 0,
  "metadata": {
    "colab": {
      "provenance": []
    },
    "kernelspec": {
      "name": "python3",
      "display_name": "Python 3"
    },
    "language_info": {
      "name": "python"
    }
  },
  "cells": [
    {
      "cell_type": "markdown",
      "source": [
        "## I. Estimation & Confidence Interval"
      ],
      "metadata": {
        "id": "g1lr4_gJIFCy"
      }
    },
    {
      "cell_type": "markdown",
      "source": [
        "##Objective:\n",
        "# The aim of this task is to estimate the mean durability of print-heads and construct a 99% confidence interval for the population mean to guide quality control decisions."
      ],
      "metadata": {
        "id": "oG0DRwDhILyj"
      }
    },
    {
      "cell_type": "markdown",
      "source": [
        "#Introduction:\n",
        "In quality control processes, especially for high-value items, destructive testing limits the number of items that can be tested. Therefore, small samples are used to estimate population parameters. A sample of 15 print-heads was tested until failure, recording the number of characters printed before each failure."
      ],
      "metadata": {
        "id": "tGiw9N0TIQQD"
      }
    },
    {
      "cell_type": "code",
      "source": [
        "#Import libraries\n",
        "import numpy as np\n",
        "from scipy import stats"
      ],
      "metadata": {
        "id": "NgSiMDvbIU-I"
      },
      "execution_count": 1,
      "outputs": []
    },
    {
      "cell_type": "code",
      "source": [
        "# Sample data\n",
        "data = np.array([1.13, 1.55, 1.43, 0.92, 1.25, 1.36, 1.32, 0.85, 1.07, 1.48, 1.20, 1.33, 1.18, 1.22, 1.29])"
      ],
      "metadata": {
        "id": "Yq213RABIZ9s"
      },
      "execution_count": 3,
      "outputs": []
    },
    {
      "cell_type": "code",
      "source": [
        "# Sample size\n",
        "n = len(data)                  # sample size\n",
        "sample_mean = np.mean(data)    # sample mean\n",
        "sample_std = np.std(data, ddof=1)  # sample standard deviation (Bessel's correction)\n",
        "confidence = 0.99                     # 99% confidence level\n",
        "print(\"Sample Size of data: \",n)\n",
        "print(\"Sample Mean: \",sample_mean)\n",
        "print(\"Sample standard deviation: \",sample_std)\n",
        "print(\"Confidence: \",confidence)"
      ],
      "metadata": {
        "colab": {
          "base_uri": "https://localhost:8080/"
        },
        "id": "AfelFJvcIdSA",
        "outputId": "9c4b75a7-8adf-44b0-8721-299e0cbd7eee"
      },
      "execution_count": 4,
      "outputs": [
        {
          "output_type": "stream",
          "name": "stdout",
          "text": [
            "Sample Size of data:  15\n",
            "Sample Mean:  1.2386666666666666\n",
            "Sample standard deviation:  0.19316412956959936\n",
            "Confidence:  0.99\n"
          ]
        }
      ]
    },
    {
      "cell_type": "markdown",
      "source": [
        "##Task A: Build 99% Confidence Interval Using Sample Standard Deviation"
      ],
      "metadata": {
        "id": "IaZLGBCAIg6W"
      }
    },
    {
      "cell_type": "markdown",
      "source": [
        "First, the sample data was defined as a Python array, and the sample size, mean, and sample standard deviation were calculated. Since the population standard deviation is unknown and the sample size is small, the t-distribution was used. The t-critical value corresponding to a 99% confidence level was obtained. The margin of error was then calculated by multiplying the t-critical value with the standard error of the mean, and finally, the lower and upper bounds of the confidence interval were determined."
      ],
      "metadata": {
        "id": "aywFJKqZIpYe"
      }
    },
    {
      "cell_type": "code",
      "source": [
        "# a. Using Sample Standard Deviation (t-distribution)\n",
        "alpha = 1 - confidence\n",
        "t_crit = stats.t.ppf(1 - alpha/2, df=n-1)  # t-critical value\n",
        "\n",
        "margin_error_t = t_crit * (sample_std / np.sqrt(n))\n",
        "ci_t_lower = sample_mean - margin_error_t\n",
        "ci_t_upper = sample_mean + margin_error_t\n",
        "\n",
        "print(f\"99% CI using sample standard deviation (t-distribution): [{ci_t_lower:.3f}, {ci_t_upper:.3f}]\")"
      ],
      "metadata": {
        "colab": {
          "base_uri": "https://localhost:8080/"
        },
        "id": "zgBZd0cyItU6",
        "outputId": "4c1da076-dfb4-4131-a296-88bcc2f9394e"
      },
      "execution_count": 5,
      "outputs": [
        {
          "output_type": "stream",
          "name": "stdout",
          "text": [
            "99% CI using sample standard deviation (t-distribution): [1.090, 1.387]\n"
          ]
        }
      ]
    },
    {
      "cell_type": "code",
      "source": [
        "# Sample mean and standard deviation\n",
        "mean = np.mean(data)\n",
        "std_dev = np.std(data, ddof=1)  # ddof=1 for sample std deviation\n",
        "\n",
        "# t critical value for 99% CI, df = n - 1\n",
        "t_critical = stats.t.ppf(1 - 0.005, df=n - 1)"
      ],
      "metadata": {
        "id": "hlTIRc_xIxT6"
      },
      "execution_count": 7,
      "outputs": []
    },
    {
      "cell_type": "code",
      "source": [
        "# Margin of error\n",
        "margin_error = t_critical * (std_dev / np.sqrt(n))"
      ],
      "metadata": {
        "id": "J6ixeWkVI1M3"
      },
      "execution_count": 8,
      "outputs": []
    },
    {
      "cell_type": "code",
      "source": [
        "# Confidence interval\n",
        "ci_lower = mean - margin_error\n",
        "ci_upper = mean + margin_error\n",
        "\n",
        "print(\"99% Confidence Interval (unknown population std dev):\")\n",
        "print(f\"Mean: {mean:.3f}, Std Dev: {std_dev:.3f}\")\n",
        "print(f\"CI: ({ci_lower:.3f}, {ci_upper:.3f})\")"
      ],
      "metadata": {
        "colab": {
          "base_uri": "https://localhost:8080/"
        },
        "id": "h8Ppi6ZXI_Kt",
        "outputId": "98cfb4f1-6b0c-4541-a5a8-817feaa5d8b3"
      },
      "execution_count": 9,
      "outputs": [
        {
          "output_type": "stream",
          "name": "stdout",
          "text": [
            "99% Confidence Interval (unknown population std dev):\n",
            "Mean: 1.239, Std Dev: 0.193\n",
            "CI: (1.090, 1.387)\n"
          ]
        }
      ]
    },
    {
      "cell_type": "markdown",
      "source": [
        "When the population standard deviation is unknown, the sample standard deviation is used, and the t-distribution is applied to account for the small sample size. Using this method, the 99% confidence interval provides a range that likely contains the true mean durability, reflecting the uncertainty due to limited data."
      ],
      "metadata": {
        "id": "WfVbYecKJG2G"
      }
    },
    {
      "cell_type": "markdown",
      "source": [
        "##Task B: Build 99% Confidence Interval Using Known Population Standard Deviation\n"
      ],
      "metadata": {
        "id": "ShHPxWWIJM9o"
      }
    },
    {
      "cell_type": "markdown",
      "source": [
        "For this scenario, the population standard deviation was assumed to be known. The z-distribution was applied instead of the t-distribution. The z-critical value for a 99% confidence level was computed, and the margin of error was calculated using the known standard deviation. Using this margin of error, the corresponding lower and upper bounds of the confidence interval were determined."
      ],
      "metadata": {
        "id": "041cSKbbJRGQ"
      }
    },
    {
      "cell_type": "code",
      "source": [
        "# Given known population standard deviation\n",
        "pop_std_dev = 0.2\n",
        "\n",
        "# z critical value for 99% confidence\n",
        "z_critical = stats.norm.ppf(1 - 0.005)\n",
        "\n",
        "# Margin of error\n",
        "margin_error_z = z_critical * (pop_std_dev / np.sqrt(n))"
      ],
      "metadata": {
        "id": "mKHbHwzrJEfI"
      },
      "execution_count": 10,
      "outputs": []
    },
    {
      "cell_type": "code",
      "source": [
        "# Confidence interval\n",
        "ci_lower_z = mean - margin_error_z\n",
        "ci_upper_z = mean + margin_error_z\n",
        "\n",
        "print(\"\\n99% Confidence Interval (known population std dev):\")\n",
        "print(f\"CI: ({ci_lower_z:.3f}, {ci_upper_z:.3f})\")"
      ],
      "metadata": {
        "colab": {
          "base_uri": "https://localhost:8080/"
        },
        "id": "J-DeXpXoJZ4B",
        "outputId": "6a7bf772-ba8d-442b-a643-a95eba75e2ef"
      },
      "execution_count": 11,
      "outputs": [
        {
          "output_type": "stream",
          "name": "stdout",
          "text": [
            "\n",
            "99% Confidence Interval (known population std dev):\n",
            "CI: (1.106, 1.372)\n"
          ]
        }
      ]
    },
    {
      "cell_type": "markdown",
      "source": [
        "If the population standard deviation is known, the z-distribution is used. In this case, the confidence interval is slightly narrower because the variability in the estimate is lower. Both approaches give a statistical range around the sample mean, allowing the manufacturer to make informed quality control decisions about the print-head durability."
      ],
      "metadata": {
        "id": "h6sG68y1I00P"
      }
    },
    {
      "cell_type": "markdown",
      "source": [
        "##Conclusion:\n",
        "The resulting confidence intervals provide a range in which the true mean durability of the print-heads is likely to lie. Using the t-distribution accounts for uncertainty from the small sample size and unknown population standard deviation, while using the z-distribution with a known standard deviation provides a slightly narrower, more precise estimate. Both approaches help the manufacturer make informed decisions regarding product reliability and quality."
      ],
      "metadata": {
        "id": "Ainq63eSI0wp"
      }
    },
    {
      "cell_type": "code",
      "source": [],
      "metadata": {
        "id": "bw-jhWXJPEBH"
      },
      "execution_count": null,
      "outputs": []
    }
  ]
}