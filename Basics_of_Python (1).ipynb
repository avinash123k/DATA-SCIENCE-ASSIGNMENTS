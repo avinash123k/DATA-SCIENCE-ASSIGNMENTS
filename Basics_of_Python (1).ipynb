{
  "nbformat": 4,
  "nbformat_minor": 0,
  "metadata": {
    "colab": {
      "provenance": []
    },
    "kernelspec": {
      "name": "python3",
      "display_name": "Python 3"
    },
    "language_info": {
      "name": "python"
    }
  },
  "cells": [
    {
      "cell_type": "markdown",
      "source": [
        "## 1. Prime Numbers"
      ],
      "metadata": {
        "id": "qWF1xxVTsFG_"
      }
    },
    {
      "cell_type": "code",
      "execution_count": null,
      "metadata": {
        "colab": {
          "base_uri": "https://localhost:8080/"
        },
        "id": "o4hSpxASrwIq",
        "outputId": "a4b9955a-4403-42d6-a7fd-6a5b2d84c618"
      },
      "outputs": [
        {
          "output_type": "stream",
          "name": "stdout",
          "text": [
            "Enter a number: 2\n",
            "2 is a prime number\n"
          ]
        }
      ],
      "source": [
        "num = int(input(\"Enter a number: \"))\n",
        "if num > 1:\n",
        "    for i in range(2, int(num**0.5) + 1):\n",
        "        if num % i == 0:\n",
        "            print(num, \"is not a prime number\")\n",
        "            break\n",
        "    else:\n",
        "        print(num, \"is a prime number\")\n",
        "else:\n",
        "    print(num, \"is not a prime number\")\n"
      ]
    },
    {
      "cell_type": "markdown",
      "source": [
        "## 2. Product of Random Numbers"
      ],
      "metadata": {
        "id": "xlGZlofEsZUs"
      }
    },
    {
      "cell_type": "code",
      "source": [
        "import random\n",
        "\n",
        "a = random.randint(1, 10)\n",
        "b = random.randint(1, 10)\n",
        "\n",
        "print(\"What is the product of\", a, \"and\", b, \"?\")\n",
        "user_answer = int(input(\"Enter your answer: \"))\n",
        "\n",
        "if user_answer == a * b:\n",
        "    print(\"Correct!\")\n",
        "else:\n",
        "    print(\"Incorrect. The correct answer is\", a * b)"
      ],
      "metadata": {
        "colab": {
          "base_uri": "https://localhost:8080/"
        },
        "id": "DKOw7t05sVq6",
        "outputId": "374fa437-5b9f-4509-fe9f-42873c5b706f"
      },
      "execution_count": null,
      "outputs": [
        {
          "output_type": "stream",
          "name": "stdout",
          "text": [
            "What is the product of 4 and 10 ?\n",
            "Enter your answer: 40\n",
            "Correct!\n"
          ]
        }
      ]
    },
    {
      "cell_type": "markdown",
      "source": [
        "## 3. Squares of even/odd numbers"
      ],
      "metadata": {
        "id": "ocS8eA5ls2BJ"
      }
    },
    {
      "cell_type": "code",
      "source": [
        "# Choice: even numbers\n",
        "for num in range(100, 201):\n",
        "    if num % 2 == 0:\n",
        "        print(f\"Square of {num} is {num**2}\")"
      ],
      "metadata": {
        "colab": {
          "base_uri": "https://localhost:8080/"
        },
        "id": "yVrlN_n9s0v1",
        "outputId": "017d4595-69f2-4c8c-cf94-a72c44f076d4"
      },
      "execution_count": null,
      "outputs": [
        {
          "output_type": "stream",
          "name": "stdout",
          "text": [
            "Square of 100 is 10000\n",
            "Square of 102 is 10404\n",
            "Square of 104 is 10816\n",
            "Square of 106 is 11236\n",
            "Square of 108 is 11664\n",
            "Square of 110 is 12100\n",
            "Square of 112 is 12544\n",
            "Square of 114 is 12996\n",
            "Square of 116 is 13456\n",
            "Square of 118 is 13924\n",
            "Square of 120 is 14400\n",
            "Square of 122 is 14884\n",
            "Square of 124 is 15376\n",
            "Square of 126 is 15876\n",
            "Square of 128 is 16384\n",
            "Square of 130 is 16900\n",
            "Square of 132 is 17424\n",
            "Square of 134 is 17956\n",
            "Square of 136 is 18496\n",
            "Square of 138 is 19044\n",
            "Square of 140 is 19600\n",
            "Square of 142 is 20164\n",
            "Square of 144 is 20736\n",
            "Square of 146 is 21316\n",
            "Square of 148 is 21904\n",
            "Square of 150 is 22500\n",
            "Square of 152 is 23104\n",
            "Square of 154 is 23716\n",
            "Square of 156 is 24336\n",
            "Square of 158 is 24964\n",
            "Square of 160 is 25600\n",
            "Square of 162 is 26244\n",
            "Square of 164 is 26896\n",
            "Square of 166 is 27556\n",
            "Square of 168 is 28224\n",
            "Square of 170 is 28900\n",
            "Square of 172 is 29584\n",
            "Square of 174 is 30276\n",
            "Square of 176 is 30976\n",
            "Square of 178 is 31684\n",
            "Square of 180 is 32400\n",
            "Square of 182 is 33124\n",
            "Square of 184 is 33856\n",
            "Square of 186 is 34596\n",
            "Square of 188 is 35344\n",
            "Square of 190 is 36100\n",
            "Square of 192 is 36864\n",
            "Square of 194 is 37636\n",
            "Square of 196 is 38416\n",
            "Square of 198 is 39204\n",
            "Square of 200 is 40000\n"
          ]
        }
      ]
    },
    {
      "cell_type": "markdown",
      "source": [
        "## 4. Word Counter"
      ],
      "metadata": {
        "id": "x9GXHoXRuym2"
      }
    },
    {
      "cell_type": "code",
      "source": [
        "# Word counter program\n",
        "\n",
        "input_text = \"This is a sample text. This text will be used to demonstrate the word counter.\"\n",
        "# Split text into words\n",
        "words = input_text.split()\n",
        "\n",
        "# Create a dictionary to count words\n",
        "word_count = {}\n",
        "\n",
        "# Count each word\n",
        "for word in words:\n",
        "    if word in word_count:\n",
        "        word_count[word] += 1  # Increase count\n",
        "    else:\n",
        "        word_count[word] = 1   # Start count\n",
        "\n",
        "# Print word counts\n",
        "for word, count in word_count.items():\n",
        "    print(\"'\" + word + \"':\", count)"
      ],
      "metadata": {
        "colab": {
          "base_uri": "https://localhost:8080/"
        },
        "id": "iUD0Irwvu3Df",
        "outputId": "2716bec9-7c27-4c77-fe0c-a898232f967e"
      },
      "execution_count": null,
      "outputs": [
        {
          "output_type": "stream",
          "name": "stdout",
          "text": [
            "'This': 2\n",
            "'is': 1\n",
            "'a': 1\n",
            "'sample': 1\n",
            "'text.': 1\n",
            "'text': 1\n",
            "'will': 1\n",
            "'be': 1\n",
            "'used': 1\n",
            "'to': 1\n",
            "'demonstrate': 1\n",
            "'the': 1\n",
            "'word': 1\n",
            "'counter.': 1\n"
          ]
        }
      ]
    },
    {
      "cell_type": "markdown",
      "source": [
        "## 5. Check Palindrome"
      ],
      "metadata": {
        "id": "pedWZMJ6v1Vv"
      }
    },
    {
      "cell_type": "code",
      "source": [
        "# Palindrome checker program\n",
        "\n",
        "input_string = input(\"Enter a string: \")\n",
        "# Remove spaces and convert to lowercase for fair comparison\n",
        "normalized_string = input_string.replace(\" \", \"\").lower()\n",
        "\n",
        "if normalized_string == normalized_string[::-1]:\n",
        "    print(\"Palindrome\")\n",
        "else:\n",
        "    print(\"Not a palindrome\")\n"
      ],
      "metadata": {
        "colab": {
          "base_uri": "https://localhost:8080/"
        },
        "id": "Vck-HEaIv8b2",
        "outputId": "92e0131d-775d-452b-fe7f-a1df97acc7af"
      },
      "execution_count": null,
      "outputs": [
        {
          "output_type": "stream",
          "name": "stdout",
          "text": [
            "Enter a string: Markram\n",
            "Palindrome\n"
          ]
        }
      ]
    },
    {
      "cell_type": "markdown",
      "source": [],
      "metadata": {
        "id": "1yri_8vuvBg1"
      }
    }
  ]
}